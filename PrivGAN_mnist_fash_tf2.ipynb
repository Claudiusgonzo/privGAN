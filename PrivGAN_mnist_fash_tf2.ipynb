{
 "cells": [
  {
   "cell_type": "markdown",
   "metadata": {},
   "source": [
    "//Copyright (c) Microsoft Corporation. All rights reserved. \n",
    "//Licensed under the MIT License."
   ]
  },
  {
   "cell_type": "code",
   "execution_count": null,
   "metadata": {},
   "outputs": [],
   "source": [
    "import os\n",
    "import numpy as np\n",
    "import pandas as pd\n",
    "from tqdm import tqdm\n",
    "import matplotlib.pyplot as plt\n",
    "from tensorflow.keras import Input\n",
    "from tensorflow.keras import Model, Sequential\n",
    "from tensorflow.keras.layers import Reshape, Dense, Dropout, Flatten, LeakyReLU, Conv2D, MaxPooling2D, ZeroPadding2D, Conv2DTranspose, UpSampling2D, BatchNormalization\n",
    "from tensorflow.keras.optimizers import Adam\n",
    "from tensorflow.keras.datasets import fashion_mnist\n",
    "from tensorflow.keras import initializers\n",
    "from tensorflow.keras import backend as K\n",
    "from scipy import stats\n",
    "import tensorflow as tf\n",
    "import warnings\n",
    "import PrivacyGAN as pg \n",
    "from datetime import datetime\n",
    "\n",
    "\n",
    "warnings.filterwarnings(\"ignore\")\n",
    "print(tf.__version__)"
   ]
  },
  {
   "cell_type": "markdown",
   "metadata": {},
   "source": [
    "### Load dataset"
   ]
  },
  {
   "cell_type": "code",
   "execution_count": null,
   "metadata": {},
   "outputs": [],
   "source": [
    "# Load MNIST data\n",
    "(X_train, y_train), (X_test, y_test) = fashion_mnist.load_data()\n",
    "X_train = (X_train.astype(np.float32) - 127.5)/127.5\n",
    "X_test = (X_test.astype(np.float32) - 127.5)/127.5\n",
    "X_train = X_train.reshape(X_train.shape[0], X_train.shape[1]*X_train.shape[2])\n",
    "X_test = X_test.reshape(X_test.shape[0], X_test.shape[1]*X_test.shape[2])\n",
    "X_all = np.concatenate((X_train,X_test))\n",
    "\n",
    "\n",
    "#Generate training test split\n",
    "frac = 0.1 \n",
    "n = int(frac*len(X_all))\n",
    "l = np.array(range(len(X_all)))\n",
    "l = np.random.choice(l,len(l),replace = False)\n",
    "X = X_all[l[:n]]\n",
    "X_comp = X_all[l[n:]]\n",
    "\n",
    "print('training set size:',X.shape)\n",
    "print('test set size:',X_comp.shape)"
   ]
  },
  {
   "cell_type": "markdown",
   "metadata": {},
   "source": [
    "### Simple GAN"
   ]
  },
  {
   "cell_type": "code",
   "execution_count": null,
   "metadata": {},
   "outputs": [],
   "source": [
    "(generator, discriminator, dLosses, gLosses) = pg.SimpGAN(X, epochs = 1, batchSize = 256, verbose = 50)"
   ]
  },
  {
   "cell_type": "code",
   "execution_count": null,
   "metadata": {},
   "outputs": [],
   "source": [
    "#perform white box attack\n",
    "Acc = pg.WBattack(X,X_comp, discriminator)"
   ]
  },
  {
   "cell_type": "code",
   "execution_count": null,
   "metadata": {},
   "outputs": [],
   "source": [
    "#plot distribution of discriminator scores of training and test set\n",
    "plt.hist(discriminator.predict(X)[:,0],color = 'r', alpha = 0.5, label = 'train', density = True, bins = 50)\n",
    "plt.hist(discriminator.predict(X_comp)[:,0],color = 'b', alpha = 0.5, label = 'test', density = True, bins = 50)\n",
    "plt.xlabel('Discriminator probability')\n",
    "plt.ylabel('Normed frequency')\n",
    "plt.title('GAN')\n",
    "plt.legend()"
   ]
  },
  {
   "cell_type": "code",
   "execution_count": null,
   "metadata": {},
   "outputs": [],
   "source": [
    "#Generate fake images\n",
    "pg.DisplayImages(generator, figSize=(5,5), NoImages = 25)"
   ]
  },
  {
   "cell_type": "markdown",
   "metadata": {},
   "source": [
    "### Private GAN "
   ]
  },
  {
   "cell_type": "code",
   "execution_count": null,
   "metadata": {},
   "outputs": [],
   "source": [
    "K.clear_session()\n",
    "optim = Adam(lr=0.0002, beta_1=0.5)\n",
    "generators = [pg.MNIST_Generator(optim = Adam(lr=0.0002, beta_1=0.5)),\n",
    "              pg.MNIST_Generator(optim = Adam(lr=0.0002, beta_1=0.5))]\n",
    "discriminators = [pg.MNIST_Discriminator(optim = Adam(lr=0.0002, beta_1=0.5))\n",
    "                  ,pg.MNIST_Discriminator(optim = Adam(lr=0.0002, beta_1=0.5))]\n",
    "pDisc = pg.MNIST_DiscriminatorPrivate(OutSize = 2, \n",
    "                                      optim = Adam(lr=0.0002, beta_1=0.5))\n",
    "\n",
    "(generators, discriminators, _, dLosses, dpLosses, gLosses)= pg.privGAN(X, epochs = 1, \n",
    "                                                                           disc_epochs=1,\n",
    "                                                                           batchSize=256,\n",
    "                                                                           generators = generators, \n",
    "                                                                           discriminators = discriminators,\n",
    "                                                                           pDisc = pDisc,\n",
    "                                                                           optim = optim,\n",
    "                                                                           privacy_ratio = 1.0)"
   ]
  },
  {
   "cell_type": "code",
   "execution_count": null,
   "metadata": {},
   "outputs": [],
   "source": [
    "#perform white box attack\n",
    "pg.WBattack_priv(X,X_comp, discriminators)"
   ]
  },
  {
   "cell_type": "code",
   "execution_count": null,
   "metadata": {},
   "outputs": [],
   "source": [
    "#Generate fake images\n",
    "pg.DisplayImages(generators[1], figSize=(5,5), NoImages = 25)"
   ]
  },
  {
   "cell_type": "code",
   "execution_count": null,
   "metadata": {},
   "outputs": [],
   "source": [
    "#plot distribution of discriminator scores of training and test set\n",
    "plt.hist(discriminators[0].predict(X)[:,0],color = 'r', alpha = 0.5, label = 'train', density = True, bins = 50)\n",
    "plt.hist(discriminators[0].predict(X_comp)[:,0],color = 'b', alpha = 0.5, label = 'test', density = True, bins = 50)\n",
    "plt.xlabel('Discriminator probability')\n",
    "plt.ylabel('Normed frequency')\n",
    "plt.title('privGAN')\n",
    "plt.legend()"
   ]
  }
 ],
 "metadata": {
  "kernelspec": {
   "display_name": "Python 3",
   "language": "python",
   "name": "python3"
  },
  "language_info": {
   "codemirror_mode": {
    "name": "ipython",
    "version": 3
   },
   "file_extension": ".py",
   "mimetype": "text/x-python",
   "name": "python",
   "nbconvert_exporter": "python",
   "pygments_lexer": "ipython3",
   "version": "3.8.3"
  }
 },
 "nbformat": 4,
 "nbformat_minor": 4
}
