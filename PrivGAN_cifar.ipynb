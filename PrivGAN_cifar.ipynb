{
 "cells": [
  {
   "cell_type": "markdown",
   "metadata": {},
   "source": [
    "//Copyright (c) Microsoft Corporation. All rights reserved. \n",
    "//Licensed under the MIT License."
   ]
  },
  {
   "cell_type": "code",
   "execution_count": null,
   "metadata": {},
   "outputs": [],
   "source": [
    "import numpy as np \n",
    "import pandas as pd \n",
    "import sklearn \n",
    "import os\n",
    "os.environ[\"KERAS_BACKEND\"] = \"tensorflow\"\n",
    "import tensorflow as tf\n",
    "import warnings\n",
    "from keras.layers import Input, Dense, Reshape, Flatten, Dropout, MaxPooling2D\n",
    "from keras.layers import BatchNormalization, Activation, ZeroPadding2D\n",
    "from keras.layers.advanced_activations import LeakyReLU\n",
    "from keras.layers import Conv2D, Conv2DTranspose, Reshape, Flatten\n",
    "from keras.models import Sequential, Model\n",
    "from keras.optimizers import Adam\n",
    "from keras.datasets import mnist,cifar10\n",
    "import matplotlib.pyplot as plt\n",
    "import sys\n",
    "import pickle\n",
    "from tqdm import tqdm\n",
    "from keras import initializers\n",
    "import matplotlib.pyplot as plt\n",
    "import PrivacyGAN as pg \n",
    "from keras import backend as K\n",
    "warnings.filterwarnings(\"ignore\")"
   ]
  },
  {
   "cell_type": "markdown",
   "metadata": {},
   "source": [
    "### Load dataset"
   ]
  },
  {
   "cell_type": "code",
   "execution_count": null,
   "metadata": {},
   "outputs": [],
   "source": [
    "# Load CIFAR-10 data\n",
    "(X_train, y_train), (X_test, y_test) = cifar10.load_data()\n",
    "\n",
    "X_all = np.concatenate((X_train,X_test))\n",
    "\n",
    "(n, d1, d2, d3) = X_all.shape\n",
    "\n",
    "if d3 !=3:\n",
    "    X_all = np.moveaxis(X_all, 1, 3)\n",
    "    \n",
    "X_all = np.float32(X_all)\n",
    "X_all = (X_all / 255 - 0.5) * 2\n",
    "X_all = np.clip(X_all, -1, 1)\n",
    "\n",
    "#Generate training test split\n",
    "frac = 0.1 \n",
    "n = int(frac*len(X_all))\n",
    "l = np.array(range(len(X_all)))\n",
    "l = np.random.choice(l,len(l),replace = False)\n",
    "X = X_all[l[:n]]\n",
    "X_comp = X_all[l[n:]]\n",
    "\n",
    "print(X.shape)\n",
    "print(X_comp.shape)"
   ]
  },
  {
   "cell_type": "markdown",
   "metadata": {},
   "source": [
    "### Run simple GAN "
   ]
  },
  {
   "cell_type": "code",
   "execution_count": null,
   "metadata": {},
   "outputs": [],
   "source": [
    "#Specify models \n",
    "generator = pg.CIFAR_Generator()\n",
    "discriminator = pg.CIFAR_Discriminator()\n",
    "generators = [pg.CIFAR_Generator(),pg.CIFAR_Generator()]\n",
    "discriminators = [pg.CIFAR_Discriminator(),pg.CIFAR_Discriminator()]\n",
    "pDisc = pg.CIFAR_DiscriminatorPrivate(OutSize = 2)"
   ]
  },
  {
   "cell_type": "code",
   "execution_count": null,
   "metadata": {},
   "outputs": [],
   "source": [
    "(generator, discriminator, dLosses, gLosses) = pg.SimpGAN(X, epochs = 500, \n",
    "                                                          generator = generator, \n",
    "                                                          discriminator = discriminator,\n",
    "                                                          batchSize=256)"
   ]
  },
  {
   "cell_type": "code",
   "execution_count": null,
   "metadata": {},
   "outputs": [],
   "source": [
    "#perform white box attack\n",
    "Acc = pg.WBattack(X,X_comp, discriminator)"
   ]
  },
  {
   "cell_type": "code",
   "execution_count": null,
   "metadata": {},
   "outputs": [],
   "source": [
    "#plot distribution of discriminator scores of training and test set\n",
    "plt.hist(discriminator.predict(X)[:,0],color = 'r', alpha = 0.5, label = 'train', normed = 1, bins = 50)\n",
    "plt.hist(discriminator.predict(X_comp)[:,0],color = 'b', alpha = 0.5, label = 'test', normed = 1, bins = 50)\n",
    "plt.xlabel('Discriminator probability')\n",
    "plt.ylabel('Normed frequency')\n",
    "plt.title('GAN')\n",
    "plt.legend()"
   ]
  },
  {
   "cell_type": "code",
   "execution_count": null,
   "metadata": {},
   "outputs": [],
   "source": [
    "noise = np.random.normal(0, 1, size=[X.shape[0], 100])\n",
    "generatedImages = generator.predict(noise)\n",
    "temp = generatedImages[:25].reshape(25, 32, 32, 3)\n",
    "plt.figure(figsize=(5, 5))\n",
    "for i in range(temp.shape[0]):\n",
    "    plt.subplot(5,5, i+1)\n",
    "    plt.imshow(temp[i], interpolation='nearest', cmap='gray_r')\n",
    "    plt.axis('off')\n",
    "plt.tight_layout()"
   ]
  },
  {
   "cell_type": "markdown",
   "metadata": {},
   "source": [
    "### Run Private GAN "
   ]
  },
  {
   "cell_type": "code",
   "execution_count": null,
   "metadata": {},
   "outputs": [],
   "source": [
    "K.clear_session()\n",
    "optim = Adam(lr=0.0002, beta_1=0.5)\n",
    "generator = pg.CIFAR_Generator(optim = Adam(lr=0.0002, beta_1=0.5))\n",
    "discriminator = pg.CIFAR_Discriminator(optim = Adam(lr=0.0002, beta_1=0.5))\n",
    "generators = [pg.CIFAR_Generator(optim = Adam(lr=0.0002, beta_1=0.5)),\n",
    "              pg.CIFAR_Generator(optim = Adam(lr=0.0002, beta_1=0.5))]\n",
    "discriminators = [pg.CIFAR_Discriminator(optim = Adam(lr=0.0002, beta_1=0.5)),\n",
    "                  pg.CIFAR_Discriminator(optim = Adam(lr=0.0002, beta_1=0.5))]\n",
    "pDisc = pg.CIFAR_DiscriminatorPrivate(OutSize = 2,\n",
    "                                     optim = Adam(lr=0.0002, beta_1=0.5))\n",
    "(generators, discriminators, _, dLosses, dpLosses, gLosses)= pg.privGAN(X, epochs = 500,\n",
    "                                                                           disc_epochs=50,\n",
    "                                                                           generators = generators, \n",
    "                                                                           discriminators = discriminators,\n",
    "                                                                           pDisc = pDisc,\n",
    "                                                                           optim = optim,\n",
    "                                                                           privacy_ratio=1.0,\n",
    "                                                                           batchSize=256)"
   ]
  },
  {
   "cell_type": "code",
   "execution_count": null,
   "metadata": {},
   "outputs": [],
   "source": [
    "#perform white box attack\n",
    "pg.WBattack_priv(X,X_comp, discriminators)"
   ]
  },
  {
   "cell_type": "code",
   "execution_count": null,
   "metadata": {},
   "outputs": [],
   "source": [
    "noise = np.random.normal(0, 1, size=[X.shape[0], 100])\n",
    "generatedImages = generators[0].predict(noise)\n",
    "temp = generatedImages[:25].reshape(25, 32, 32, 3)\n",
    "plt.figure(figsize=(5, 5))\n",
    "for i in range(temp.shape[0]):\n",
    "    plt.subplot(5,5, i+1)\n",
    "    plt.imshow(temp[i], interpolation='nearest', cmap='gray_r')\n",
    "    plt.axis('off')\n",
    "plt.tight_layout()"
   ]
  },
  {
   "cell_type": "code",
   "execution_count": null,
   "metadata": {},
   "outputs": [],
   "source": [
    "plt.hist(discriminators[0].predict(X)[:,0],color = 'r', alpha = 0.5, label = 'train', normed = 1, bins = 50)\n",
    "plt.hist(discriminators[0].predict(X_comp)[:,0],color = 'b', alpha = 0.5, label = 'test', normed = 1, bins = 50)\n",
    "plt.xlabel('Discriminator probability')\n",
    "plt.ylabel('Normed frequency')\n",
    "plt.title('privGAN (1.0)')\n",
    "plt.legend()"
   ]
  },
  {
   "cell_type": "code",
   "execution_count": null,
   "metadata": {},
   "outputs": [],
   "source": [
    "pg.WBattack_priv(X,X_comp, discriminators)"
   ]
  }
 ],
 "metadata": {
  "kernelspec": {
   "display_name": "Python 3",
   "language": "python",
   "name": "python3"
  },
  "language_info": {
   "codemirror_mode": {
    "name": "ipython",
    "version": 3
   },
   "file_extension": ".py",
   "mimetype": "text/x-python",
   "name": "python",
   "nbconvert_exporter": "python",
   "pygments_lexer": "ipython3",
   "version": "3.8.3"
  }
 },
 "nbformat": 4,
 "nbformat_minor": 4
}
