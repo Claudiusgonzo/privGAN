{
 "cells": [
  {
   "cell_type": "markdown",
   "metadata": {},
   "source": [
    "//Copyright (c) Microsoft Corporation. All rights reserved. \n",
    "//Licensed under the MIT License."
   ]
  },
  {
   "cell_type": "code",
   "execution_count": null,
   "metadata": {},
   "outputs": [],
   "source": [
    "import os\n",
    "os.environ[\"KERAS_BACKEND\"] = \"tensorflow\"\n",
    "import numpy as np\n",
    "import pandas as pd\n",
    "from tqdm import tqdm\n",
    "import matplotlib.pyplot as plt\n",
    "import keras \n",
    "from keras.layers import Input\n",
    "from keras.models import Model, Sequential\n",
    "from keras.layers.core import Reshape, Dense, Dropout, Flatten\n",
    "from keras.layers.advanced_activations import LeakyReLU\n",
    "from keras.layers.convolutional import Convolution2D, UpSampling2D\n",
    "from keras.layers.normalization import BatchNormalization\n",
    "from keras.datasets import mnist,cifar10\n",
    "from keras.optimizers import Adam\n",
    "from keras import backend as K\n",
    "from keras import initializers\n",
    "from scipy import stats\n",
    "import warnings\n",
    "import PrivacyGAN as pg \n",
    "from keras.models import load_model\n",
    "from datetime import datetime\n",
    "from sklearn.datasets import fetch_lfw_people\n",
    "\n",
    "\n",
    "warnings.filterwarnings(\"ignore\")\n",
    "K.set_image_dim_ordering('th')"
   ]
  },
  {
   "cell_type": "markdown",
   "metadata": {},
   "source": [
    "### Load dataset"
   ]
  },
  {
   "cell_type": "code",
   "execution_count": null,
   "metadata": {},
   "outputs": [],
   "source": [
    "lfw_people = fetch_lfw_people()\n",
    "X_all = lfw_people['data']\n",
    "X_all = (X_all.astype(np.float32) - 127.5)/127.5\n",
    "\n",
    "#Generate training test split\n",
    "frac = 0.1 \n",
    "n = int(frac*len(X_all))\n",
    "l = np.array(range(len(X_all)))\n",
    "l = np.random.choice(l,len(l),replace = False)\n",
    "X = X_all[l[:n]]\n",
    "X_comp = X_all[l[n:]]\n",
    "\n",
    "print('training set size:',X.shape)\n",
    "print('test set size:',X_comp.shape)"
   ]
  },
  {
   "cell_type": "markdown",
   "metadata": {},
   "source": [
    "### Simple GAN"
   ]
  },
  {
   "cell_type": "code",
   "execution_count": null,
   "metadata": {},
   "outputs": [],
   "source": [
    "generator = pg.LFW_Generator()\n",
    "discriminator = pg.LFW_Discriminator()\n",
    "(generator, discriminator, dLosses, gLosses) = pg.SimpGAN(X, epochs = 500, batchSize = 256,\n",
    "                                                         discriminator = discriminator,\n",
    "                                                         generator = generator)"
   ]
  },
  {
   "cell_type": "code",
   "execution_count": null,
   "metadata": {},
   "outputs": [],
   "source": [
    "#perform white box attack\n",
    "Acc = pg.WBattack(X,X_comp, discriminator)"
   ]
  },
  {
   "cell_type": "code",
   "execution_count": null,
   "metadata": {},
   "outputs": [],
   "source": [
    "#plot distribution of discriminator scores of training and test set\n",
    "plt.hist(discriminator.predict(X)[:,0],color = 'r', alpha = 0.5, label = 'train', normed = 1, bins = 50)\n",
    "plt.hist(discriminator.predict(X_comp)[:,0],color = 'b', alpha = 0.5, label = 'test', normed = 1, bins = 50)\n",
    "plt.xlabel('Discriminator probability')\n",
    "plt.ylabel('Normed frequency')\n",
    "plt.title('GAN')\n",
    "plt.legend()"
   ]
  },
  {
   "cell_type": "code",
   "execution_count": null,
   "metadata": {},
   "outputs": [],
   "source": [
    "#generate synthetic images\n",
    "noise = np.random.normal(0, 1, size=[X.shape[0], 100])\n",
    "generatedImages = generator.predict(noise)\n",
    "temp = generatedImages[:25].reshape(25, 62, 47)\n",
    "plt.figure(figsize=(5, 5))\n",
    "for i in range(temp.shape[0]):\n",
    "    plt.subplot(5,5, i+1)\n",
    "    plt.imshow(temp[i], interpolation='nearest', cmap='gray_r')\n",
    "    plt.axis('off')\n",
    "plt.tight_layout()"
   ]
  },
  {
   "cell_type": "markdown",
   "metadata": {},
   "source": [
    "### Private GAN"
   ]
  },
  {
   "cell_type": "code",
   "execution_count": null,
   "metadata": {},
   "outputs": [],
   "source": [
    "K.clear_session()\n",
    "optim = Adam(lr=0.0002, beta_1=0.5)\n",
    "generators = [pg.LFW_Generator(optim = Adam(lr=0.0002, beta_1=0.5)),\n",
    "              pg.LFW_Generator(optim = Adam(lr=0.0002, beta_1=0.5))]\n",
    "discriminators = [pg.LFW_Discriminator(optim = Adam(lr=0.0002, beta_1=0.5))\n",
    "                  ,pg.LFW_Discriminator(optim = Adam(lr=0.0002, beta_1=0.5))]\n",
    "pDisc = pg.LFW_DiscriminatorPrivate(OutSize = 2, \n",
    "                                      optim = Adam(lr=0.0002, beta_1=0.5))\n",
    "\n",
    "(generators, discriminators, _, dLosses, dpLosses, gLosses)= pg.privGAN(X, epochs = 500, \n",
    "                                                                           disc_epochs=50,\n",
    "                                                                           batchSize=256,\n",
    "                                                                           generators = generators, \n",
    "                                                                           discriminators = discriminators,\n",
    "                                                                           pDisc = pDisc,\n",
    "                                                                           optim = optim,\n",
    "                                                                           privacy_ratio = 1.0)"
   ]
  },
  {
   "cell_type": "code",
   "execution_count": null,
   "metadata": {},
   "outputs": [],
   "source": [
    "#perform white box attack\n",
    "pg.WBattack_priv(X,X_comp, discriminators)"
   ]
  },
  {
   "cell_type": "code",
   "execution_count": null,
   "metadata": {},
   "outputs": [],
   "source": [
    "#generate synthetic images\n",
    "noise = np.random.normal(0, 1, size=[X.shape[0], 100])\n",
    "generatedImages = generators[0].predict(noise)\n",
    "temp = generatedImages[:25].reshape(25, 62, 47)\n",
    "plt.figure(figsize=(5, 5))\n",
    "for i in range(temp.shape[0]):\n",
    "    plt.subplot(5,5, i+1)\n",
    "    plt.imshow(temp[i], interpolation='nearest', cmap='gray_r')\n",
    "    plt.axis('off')\n",
    "plt.tight_layout()"
   ]
  },
  {
   "cell_type": "code",
   "execution_count": null,
   "metadata": {},
   "outputs": [],
   "source": [
    "#plot distribution of discriminator scores of training and test set\n",
    "plt.hist(discriminators[0].predict(X)[:,0],color = 'r', alpha = 0.5, label = 'train', normed = 1, bins = 50)\n",
    "plt.hist(discriminators[0].predict(X_comp)[:,0],color = 'b', alpha = 0.5, label = 'test', normed = 1, bins = 50)\n",
    "plt.xlabel('Discriminator probability')\n",
    "plt.ylabel('Normed frequency')\n",
    "plt.title('privGAN')\n",
    "plt.legend()"
   ]
  }
 ],
 "metadata": {
  "kernelspec": {
   "display_name": "Python 3",
   "language": "python",
   "name": "python3"
  },
  "language_info": {
   "codemirror_mode": {
    "name": "ipython",
    "version": 3
   },
   "file_extension": ".py",
   "mimetype": "text/x-python",
   "name": "python",
   "nbconvert_exporter": "python",
   "pygments_lexer": "ipython3",
   "version": "3.8.3"
  }
 },
 "nbformat": 4,
 "nbformat_minor": 4
}
